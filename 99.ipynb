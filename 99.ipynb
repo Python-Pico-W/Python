for i in range(1,10):
    print('|',end='')
    for i in range(1,10):
        print(f' {i}*{j}={(i*j):2 |}',end='')
    print()